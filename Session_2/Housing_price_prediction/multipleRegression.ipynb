{
 "cells": [
  {
   "cell_type": "code",
   "execution_count": null,
   "id": "5eebc2ed",
   "metadata": {},
   "outputs": [],
   "source": [
    "import pandas as pd\n",
    "import numpy as np\n",
    "import matplotlib.pyplot as plt\n",
    "%matplotlib inline"
   ]
  },
  {
   "cell_type": "code",
   "execution_count": null,
   "id": "4ad2cee2",
   "metadata": {},
   "outputs": [],
   "source": [
    "filePath=\"C:\\\\Users\\\\amtha\\\\myrepository\\\\lab\\\\HousingPrices\\\\Housing.csv\""
   ]
  },
  {
   "cell_type": "code",
   "execution_count": null,
   "id": "4b058bc4",
   "metadata": {},
   "outputs": [],
   "source": [
    "df=pd.read_csv(filePath)\n",
    "\n",
    "df.sample(5)"
   ]
  },
  {
   "cell_type": "code",
   "execution_count": null,
   "id": "800b2b1e",
   "metadata": {},
   "outputs": [],
   "source": [
    "df.describe()"
   ]
  },
  {
   "cell_type": "code",
   "execution_count": null,
   "id": "7302c340",
   "metadata": {},
   "outputs": [],
   "source": [
    "df.describe().corr()"
   ]
  },
  {
   "cell_type": "markdown",
   "id": "3eb69680",
   "metadata": {},
   "source": [
    "We can remove items with less correlation with the housing price"
   ]
  },
  {
   "cell_type": "code",
   "execution_count": null,
   "id": "ffa3ac06",
   "metadata": {},
   "outputs": [],
   "source": [
    "cdf=df.drop(['bathrooms','stories','parking','bedrooms',],axis=1)"
   ]
  },
  {
   "cell_type": "code",
   "execution_count": null,
   "id": "3510bc3a",
   "metadata": {},
   "outputs": [],
   "source": [
    "plt.scatter(cdf.area, cdf.price,  color='blue')\n",
    "plt.xlabel(\"area\")\n",
    "plt.ylabel(\"price\")\n",
    "plt.show()"
   ]
  },
  {
   "cell_type": "code",
   "execution_count": null,
   "id": "4316ae55",
   "metadata": {},
   "outputs": [],
   "source": [
    "X = cdf.area.to_numpy()\n",
    "y = cdf.price.to_numpy()"
   ]
  },
  {
   "cell_type": "markdown",
   "id": "e5b86d19",
   "metadata": {},
   "source": [
    "create test & train dataset"
   ]
  },
  {
   "cell_type": "code",
   "execution_count": null,
   "id": "0c025230",
   "metadata": {},
   "outputs": [],
   "source": [
    "from sklearn.model_selection import train_test_split\n",
    "\n",
    "X_train, X_test, y_train, y_test = train_test_split(X,y,test_size=0.2,random_state=42)"
   ]
  },
  {
   "cell_type": "code",
   "execution_count": null,
   "id": "15013d1f",
   "metadata": {},
   "outputs": [],
   "source": [
    "type(X_train), np.shape(X_train), np.shape(X_train)"
   ]
  },
  {
   "cell_type": "code",
   "execution_count": null,
   "id": "c5269354",
   "metadata": {},
   "outputs": [],
   "source": [
    "from sklearn import linear_model\n",
    "\n",
    "\n",
    "regressor = linear_model.LinearRegression()\n",
    "\n",
    "regressor.fit(X_train.reshape(-1, 1), y_train)\n",
    "\n",
    "\n",
    "print ('Coefficients: ', regressor.coef_[0]) \n",
    "print ('Intercept: ',regressor.intercept_)"
   ]
  },
  {
   "cell_type": "code",
   "execution_count": null,
   "id": "cc724001",
   "metadata": {},
   "outputs": [],
   "source": [
    "plt.scatter(X_train, y_train,  color='blue')\n",
    "plt.plot(X_train, regressor.coef_ * X_train + regressor.intercept_, '-r')\n",
    "plt.xlabel(\"area\")\n",
    "plt.ylabel(\"price\")"
   ]
  },
  {
   "cell_type": "code",
   "execution_count": null,
   "id": "dcad729f",
   "metadata": {},
   "outputs": [],
   "source": [
    "from sklearn.metrics import mean_absolute_error, mean_squared_error, r2_score\n",
    "\n",
    "# Use the predict method to make test predictions\n",
    "y_test_ = regressor.predict(X_test.reshape(-1,1))\n",
    "\n",
    "# Evaluation\n",
    "print(\"Mean absolute error: %.2f\" % mean_absolute_error(y_test, y_test_))\n",
    "print(\"Mean squared error: %.2f\" % mean_squared_error(y_test, y_test_))\n",
    "print(\"Root mean squared error: %.2f\" % np.sqrt(mean_squared_error(y_test, y_test_)))\n",
    "print(\"R2-score: %.2f\" % r2_score(y_test, y_test_))"
   ]
  }
 ],
 "metadata": {
  "language_info": {
   "name": "python"
  }
 },
 "nbformat": 4,
 "nbformat_minor": 5
}
